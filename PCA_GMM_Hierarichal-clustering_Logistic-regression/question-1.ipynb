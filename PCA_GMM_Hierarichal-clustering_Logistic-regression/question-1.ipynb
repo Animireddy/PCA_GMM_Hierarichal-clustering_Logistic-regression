{
 "cells": [
  {
   "cell_type": "code",
   "execution_count": 9,
   "metadata": {},
   "outputs": [],
   "source": [
    "import numpy as np \n",
    "import pandas as pd \n",
    "import os\n",
    "import math\n",
    "import operator\n",
    "import matplotlib\n",
    "import matplotlib.pyplot as plt\n",
    "from statistics import stdev,mean\n",
    "import scipy.stats as ss\n",
    "from sklearn.metrics import f1_score,precision_score,recall_score,accuracy_score\n",
    "from sklearn.model_selection import train_test_split\n",
    "from sklearn.preprocessing import scale\n",
    "from scipy import linalg"
   ]
  },
  {
   "cell_type": "code",
   "execution_count": 10,
   "metadata": {},
   "outputs": [],
   "source": [
    "intrusion = pd.read_csv(\"./data.csv\")\n"
   ]
  },
  {
   "cell_type": "code",
   "execution_count": 11,
   "metadata": {},
   "outputs": [],
   "source": [
    "def get_mean(data):\n",
    "    return np.mean(data,0)"
   ]
  },
  {
   "cell_type": "code",
   "execution_count": 12,
   "metadata": {},
   "outputs": [],
   "source": [
    "def get_std(data):\n",
    "    return np.std(data,0)"
   ]
  },
  {
   "cell_type": "code",
   "execution_count": 13,
   "metadata": {},
   "outputs": [],
   "source": [
    "def normalise(inst,mean,std):\n",
    "    return (inst-mean)/(std)"
   ]
  },
  {
   "cell_type": "markdown",
   "metadata": {},
   "source": [
    "### Function for PCA"
   ]
  },
  {
   "cell_type": "code",
   "execution_count": 14,
   "metadata": {},
   "outputs": [],
   "source": [
    "def PCA(X,k):\n",
    "    a, b = np.shape(X)\n",
    "    Mean = get_mean(X)\n",
    "    Std = get_std(X)\n",
    "    X = normalise(X,Mean,Std) # Nxd\n",
    "    #print(X.shape,\"   X\")\n",
    "    XT = np.transpose(X)\n",
    "    #print(XT.shape,\"   XT\")   # dxN\n",
    "    mat2 = np.cov(XT)\n",
    "    #print(mat2.shape,\"   mat2\") # dxd\n",
    "    eigenvalues, eigenvectors = np.linalg.eig(mat2)\n",
    "    e = []\n",
    "    val = 0\n",
    "    vec = 0\n",
    "    eigenvectors = np.transpose(eigenvectors)#kxe\n",
    "\n",
    "        # sorting eigen vectors by values\n",
    "    while(val < len(eigenvalues)):\n",
    "        while(vec < len(eigenvectors)):\n",
    "            e.append((eigenvalues[val], eigenvectors[vec]))\n",
    "            val += 1\n",
    "            vec += 1\n",
    "\n",
    "    v=[]\n",
    "    e.sort(key=lambda x: x[0], reverse=True)\n",
    "    for tup in e:\n",
    "        v.append(tup[1])\n",
    "    #print(np.array(v).shape,\"   v\")\n",
    "    a, b = np.shape(v)\n",
    "    v = np.transpose(v)\n",
    "    #print(np.array(v).shape,\"   v\")\n",
    "    for i in range(a):\n",
    "        s = 0\n",
    "        for j in range(b):\n",
    "            s += v[i][j]**2\n",
    "        s = np.sqrt(s)\n",
    "        for j in range(b):\n",
    "            v[i][j] /= s\n",
    "    p = v[:, :k]    # dxk\n",
    "    #print(np.array(p).shape,\"   p\")\n",
    "   \n",
    "    z = np.matmul(X, p)  # Nxk\n",
    "    #print(np.array(z).shape,\"   z\")\n",
    "    return z,p"
   ]
  },
  {
   "cell_type": "markdown",
   "metadata": {},
   "source": [
    "### Function for reconstruction of the data"
   ]
  },
  {
   "cell_type": "code",
   "execution_count": 15,
   "metadata": {},
   "outputs": [],
   "source": [
    "def reconstruction(red_data,V):\n",
    "    V = np.transpose(V)\n",
    "    #print(red_data.shape,V.shape)\n",
    "    return np.dot(red_data,V)"
   ]
  },
  {
   "cell_type": "code",
   "execution_count": 16,
   "metadata": {},
   "outputs": [],
   "source": [
    "Data = intrusion.iloc[:,:-1].values\n",
    "mean,std=np.mean(Data,0),np.std(Data,0)\n",
    "Data=(Data - mean)/std\n",
    "\n",
    "\n",
    "        \n",
    "    "
   ]
  },
  {
   "cell_type": "markdown",
   "metadata": {},
   "source": [
    "### Errors vs the selected number of dimensions"
   ]
  },
  {
   "cell_type": "code",
   "execution_count": 17,
   "metadata": {},
   "outputs": [
    {
     "name": "stdout",
     "output_type": "stream",
     "text": [
      "(5, ' ', 0.39397086485740024)\n",
      "(6, ' ', 0.3476122058459091)\n",
      "(7, ' ', 0.3084114346938505)\n",
      "(8, ' ', 0.2719993682176272)\n",
      "(9, ' ', 0.2373090355285673)\n",
      "(10, ' ', 0.20290534211190112)\n",
      "(11, ' ', 0.16970374872200814)\n",
      "(12, ' ', 0.1380142690982945)\n",
      "(13, ' ', 0.11329120901311435)\n",
      "(14, ' ', 0.09068097478520074)\n",
      "(15, ' ', 0.0735486641994768)\n"
     ]
    }
   ],
   "source": [
    "T = 5\n",
    "while T<=15:\n",
    "    data_R = PCA(Data,T)\n",
    "    data_N = reconstruction(data_R[0],data_R[1])\n",
    "    error = 0\n",
    "    div =  0\n",
    "    for i in range(Data.shape[0]):\n",
    "        error += np.sum((Data[i,:]- data_N[i,:])** 2)\n",
    "        div += np.sum(Data[i,:] ** 2)\n",
    "    print(T,\" \",error/div)\n",
    "    T+=1"
   ]
  },
  {
   "cell_type": "code",
   "execution_count": 18,
   "metadata": {},
   "outputs": [],
   "source": [
    "df1 = PCA(Data,5)[0]\n"
   ]
  },
  {
   "cell_type": "code",
   "execution_count": 19,
   "metadata": {},
   "outputs": [],
   "source": [
    "clustering_method = []\n",
    "purity = {}\n",
    "for i in range(1,6):\n",
    "    purity[i] = []"
   ]
  },
  {
   "cell_type": "markdown",
   "metadata": {},
   "source": [
    "### Function for Kmeans"
   ]
  },
  {
   "cell_type": "code",
   "execution_count": 20,
   "metadata": {},
   "outputs": [],
   "source": [
    "def assignment(df, centroids,no_columns):\n",
    "    #print(no_columns)\n",
    "    k = 0\n",
    "    for i in centroids.keys():\n",
    "        k = k+1\n",
    "        temp = np.zeros(df.shape[0])\n",
    "        for j in range(no_columns):\n",
    "            k = k+2\n",
    "            #print(temp)\n",
    "            temp = np.sum([temp,(df.iloc[:,j].values - centroids[i][j]) ** 2], axis = 0)\n",
    "        temp = np.array(np.sqrt(temp))\n",
    "        df['distance_from_{}'.format(i)] = pd.Series(temp)\n",
    "    #print(temp)\n",
    "    centroid_distance_cols = ['distance_from_{}'.format(i) for i in centroids.keys()]\n",
    "    df['closest'] = df.loc[:, centroid_distance_cols].idxmin(axis=1)\n",
    "    #print(df['closest'])\n",
    "    df['closest'] = df['closest'].map(lambda x: int(x.lstrip('distance_from_')))\n",
    "    return df"
   ]
  },
  {
   "cell_type": "code",
   "execution_count": 21,
   "metadata": {},
   "outputs": [],
   "source": [
    "def update(df,centroids,no_columns):\n",
    "    l = 0\n",
    "    for i in centroids.keys():\n",
    "        l=l+1\n",
    "        for j in range(no_columns):\n",
    "            l=l+2\n",
    "            #print(df[df['closest']==i].iloc[:,j])\n",
    "            centroids[i][j] = np.mean(df[df['closest'] == i].iloc[:,j])\n",
    "    return centroids\n",
    "    "
   ]
  },
  {
   "cell_type": "code",
   "execution_count": 22,
   "metadata": {},
   "outputs": [],
   "source": [
    "def k_means(df,no_clusters):\n",
    "    no_columns = df.shape[1]\n",
    "    np.random.seed(200)\n",
    "    x = 0\n",
    "    centroids = {\n",
    "        i+1: df.iloc[np.random.randint(0,df.shape[0]),:].values\n",
    "        for i in range(no_clusters)\n",
    "    }\n",
    "    \n",
    "    df = assignment(df,centroids,no_columns)\n",
    "    \n",
    "    while True:\n",
    "        x = x+1\n",
    "        closest_centroids = df['closest'].copy(deep=True)\n",
    "        centroids = update(df,centroids,no_columns)\n",
    "        df = assignment(df, centroids,no_columns)\n",
    "        if closest_centroids.equals(df['closest']):\n",
    "            break\n",
    "    return df\n",
    "        \n",
    "    \n",
    "    "
   ]
  },
  {
   "cell_type": "code",
   "execution_count": 23,
   "metadata": {},
   "outputs": [],
   "source": [
    "\n",
    "inp = {}\n",
    "for index in range(5):\n",
    "    inp[index] = df1[:,index]\n",
    "Inp = pd.DataFrame(inp)\n",
    "#print(Inp.shape)"
   ]
  },
  {
   "cell_type": "code",
   "execution_count": 24,
   "metadata": {},
   "outputs": [],
   "source": [
    "\n",
    "clusters = k_means(Inp,5)\n",
    "clustering_method.append(\"KMeans\")"
   ]
  },
  {
   "cell_type": "code",
   "execution_count": 25,
   "metadata": {},
   "outputs": [],
   "source": [
    "#print(clusters['closest'])"
   ]
  },
  {
   "cell_type": "code",
   "execution_count": 26,
   "metadata": {},
   "outputs": [],
   "source": [
    "clusters['xAttack'] = intrusion.iloc[:,-1].values"
   ]
  },
  {
   "cell_type": "code",
   "execution_count": 27,
   "metadata": {},
   "outputs": [],
   "source": [
    "# for i in range(intrusion.shape[0]):\n",
    "#     print(clusters['closest'][i],clusters['xAttack'][i])"
   ]
  },
  {
   "cell_type": "code",
   "execution_count": 28,
   "metadata": {},
   "outputs": [],
   "source": [
    "Clus = {}\n",
    "for i in range(1,6):\n",
    "    Clus[i] = clusters[clusters['closest']==i]"
   ]
  },
  {
   "cell_type": "code",
   "execution_count": 29,
   "metadata": {},
   "outputs": [
    {
     "name": "stdout",
     "output_type": "stream",
     "text": [
      "{1: 0, 2: 0, 3: 0, 4: 0, 5: 0}\n"
     ]
    }
   ],
   "source": [
    "impurity = {}\n",
    "for i in range(1,6):\n",
    "    Maxi = 0\n",
    "    for C in list(set(intrusion.iloc[:,-1].values)):\n",
    "        DF = Clus[i]\n",
    "        no = DF[DF['xAttack'] == C].shape[0]\n",
    "        #print(no,Clus[i].shape[0])\n",
    "        if(Maxi < no):\n",
    "            Class = C\n",
    "            Maxi = no\n",
    "    impurity[i] = Maxi/Clus[i].shape[0]\n",
    "    purity[i].append(impurity[i])\n",
    "print(impurity)"
   ]
  },
  {
   "cell_type": "code",
   "execution_count": 30,
   "metadata": {},
   "outputs": [],
   "source": [
    "Inp['xAttack'] = intrusion.iloc[:,-1].values"
   ]
  },
  {
   "cell_type": "markdown",
   "metadata": {},
   "source": [
    "### Agglomerative Clustering"
   ]
  },
  {
   "cell_type": "code",
   "execution_count": 31,
   "metadata": {},
   "outputs": [],
   "source": [
    "from sklearn.cluster import AgglomerativeClustering"
   ]
  },
  {
   "cell_type": "code",
   "execution_count": null,
   "metadata": {},
   "outputs": [],
   "source": [
    "clustering = AgglomerativeClustering(n_clusters =5).fit_predict(df1)\n",
    "clustering_method.append(\"Agglomerative\")"
   ]
  },
  {
   "cell_type": "code",
   "execution_count": null,
   "metadata": {},
   "outputs": [],
   "source": [
    "clustering"
   ]
  },
  {
   "cell_type": "code",
   "execution_count": null,
   "metadata": {},
   "outputs": [],
   "source": [
    "Inp['predict'] = np.array(clustering)+1"
   ]
  },
  {
   "cell_type": "code",
   "execution_count": null,
   "metadata": {},
   "outputs": [],
   "source": [
    "impurity = {}\n",
    "for i in range(1,6):\n",
    "    Maxi = 0\n",
    "    DF = Inp[Inp['predict'] == i]\n",
    "    for C in list(set(intrusion.iloc[:,-1].values)):\n",
    "        no = DF[DF['xAttack'] == C].shape[0]\n",
    "        #print(no,Clus[i].shape[0])\n",
    "        if(Maxi < no):\n",
    "            Class = C\n",
    "            Maxi = no\n",
    "    impurity[i] = Maxi/DF.shape[0]\n",
    "    purity[i].append(impurity[i])\n",
    "print(impurity)\n",
    "    "
   ]
  },
  {
   "cell_type": "code",
   "execution_count": null,
   "metadata": {},
   "outputs": [],
   "source": [
    "from sklearn.mixture import GaussianMixture"
   ]
  },
  {
   "cell_type": "code",
   "execution_count": null,
   "metadata": {},
   "outputs": [],
   "source": [
    "GMM = GaussianMixture(n_components=5).fit_predict(df1)\n",
    "clustering_method.append('GMM')"
   ]
  },
  {
   "cell_type": "code",
   "execution_count": null,
   "metadata": {},
   "outputs": [],
   "source": [
    "#print(GMM)"
   ]
  },
  {
   "cell_type": "code",
   "execution_count": null,
   "metadata": {},
   "outputs": [],
   "source": [
    "Inp['predict'] = np.array(GMM)+1"
   ]
  },
  {
   "cell_type": "code",
   "execution_count": null,
   "metadata": {},
   "outputs": [],
   "source": [
    "impurity = {}\n",
    "for i in range(1,6):\n",
    "    Maxi = 0\n",
    "    DF = Inp[Inp['predict'] == i]\n",
    "    for C in list(set(intrusion.iloc[:,-1].values)):\n",
    "        no = DF[DF['xAttack'] == C].shape[0]\n",
    "        #print(no,Clus[i].shape[0])\n",
    "        if(Maxi < no):\n",
    "            Class = C\n",
    "            Maxi = no\n",
    "    impurity[i] = Maxi/DF.shape[0]\n",
    "    purity[i].append(impurity[i])\n",
    "print(impurity)"
   ]
  },
  {
   "cell_type": "markdown",
   "metadata": {},
   "source": [
    "### Bar diagram for purity measure vs clustering algorithms for 5 classes"
   ]
  },
  {
   "cell_type": "code",
   "execution_count": null,
   "metadata": {},
   "outputs": [],
   "source": [
    "index = np.arange(len(clustering_method))\n",
    "plt.bar(index, purity[1])\n",
    "plt.xlabel('clustering_method', fontsize=5)\n",
    "plt.ylabel('purity', fontsize=8)\n",
    "plt.xticks(index, clustering_method, fontsize=8)\n",
    "plt.title('cluster 1')\n",
    "plt.show()"
   ]
  },
  {
   "cell_type": "code",
   "execution_count": null,
   "metadata": {},
   "outputs": [],
   "source": [
    "index = np.arange(len(clustering_method))\n",
    "plt.bar(index, purity[2])\n",
    "plt.xlabel('clustering_method', fontsize=5)\n",
    "plt.ylabel('purity', fontsize=8)\n",
    "plt.xticks(index, clustering_method, fontsize=8)\n",
    "plt.title('cluster 2')\n",
    "plt.show()"
   ]
  },
  {
   "cell_type": "code",
   "execution_count": null,
   "metadata": {},
   "outputs": [],
   "source": [
    "index = np.arange(len(clustering_method))\n",
    "plt.bar(index, purity[3])\n",
    "plt.xlabel('clustering_method', fontsize=5)\n",
    "plt.ylabel('purity', fontsize=8)\n",
    "plt.xticks(index, clustering_method, fontsize=8)\n",
    "plt.title('cluster 3')\n",
    "plt.show()"
   ]
  },
  {
   "cell_type": "code",
   "execution_count": null,
   "metadata": {},
   "outputs": [],
   "source": [
    "index = np.arange(len(clustering_method))\n",
    "plt.bar(index, purity[4])\n",
    "plt.xlabel('clustering_method', fontsize=5)\n",
    "plt.ylabel('purity', fontsize=8)\n",
    "plt.xticks(index, clustering_method, fontsize=8)\n",
    "plt.title('cluster 4')\n",
    "plt.show()"
   ]
  },
  {
   "cell_type": "code",
   "execution_count": null,
   "metadata": {},
   "outputs": [],
   "source": [
    "index = np.arange(len(clustering_method))\n",
    "plt.bar(index, purity[5])\n",
    "plt.xlabel('clustering_method', fontsize=5)\n",
    "plt.ylabel('purity', fontsize=8)\n",
    "plt.xticks(index, clustering_method, fontsize=8)\n",
    "plt.title('cluster 5')\n",
    "plt.show()"
   ]
  },
  {
   "cell_type": "markdown",
   "metadata": {},
   "source": [
    "### Part-5"
   ]
  },
  {
   "cell_type": "markdown",
   "metadata": {},
   "source": [
    "## PCA can be applied on data with categorial variables as well by using label encoding which converts the categorical data into numerical data"
   ]
  },
  {
   "cell_type": "code",
   "execution_count": null,
   "metadata": {},
   "outputs": [],
   "source": []
  },
  {
   "cell_type": "code",
   "execution_count": null,
   "metadata": {},
   "outputs": [],
   "source": []
  }
 ],
 "metadata": {
  "kernelspec": {
   "display_name": "Python 2",
   "language": "python",
   "name": "python2"
  },
  "language_info": {
   "codemirror_mode": {
    "name": "ipython",
    "version": 2
   },
   "file_extension": ".py",
   "mimetype": "text/x-python",
   "name": "python",
   "nbconvert_exporter": "python",
   "pygments_lexer": "ipython2",
   "version": "2.7.12"
  }
 },
 "nbformat": 4,
 "nbformat_minor": 2
}
